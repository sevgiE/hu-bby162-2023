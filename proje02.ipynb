{
  "nbformat": 4,
  "nbformat_minor": 0,
  "metadata": {
    "colab": {
      "provenance": [],
      "authorship_tag": "ABX9TyNXLYVKq4KeajFR/EdxZVcr",
      "include_colab_link": true
    },
    "kernelspec": {
      "name": "python3",
      "display_name": "Python 3"
    },
    "language_info": {
      "name": "python"
    }
  },
  "cells": [
    {
      "cell_type": "markdown",
      "metadata": {
        "id": "view-in-github",
        "colab_type": "text"
      },
      "source": [
        "<a href=\"https://colab.research.google.com/github/sevgiE/hu-bby162-2023/blob/main/proje02.ipynb\" target=\"_parent\"><img src=\"https://colab.research.google.com/assets/colab-badge.svg\" alt=\"Open In Colab\"/></a>"
      ]
    },
    {
      "cell_type": "code",
      "execution_count": null,
      "metadata": {
        "colab": {
          "base_uri": "https://localhost:8080/"
        },
        "id": "X1X2EeBMAwql",
        "outputId": "0d4a938a-118c-4987-eb29-de959de19f18"
      },
      "outputs": [
        {
          "output_type": "stream",
          "name": "stdout",
          "text": [
            "\n",
            "\n",
            "\n",
            "_ _ _ _ _ _ _ _ _ \n",
            "\n",
            "Kalan can: 6\n",
            "Bir harf girin: s\n",
            "Yanlış tahmin!\n",
            "\n",
            "\n",
            "\n",
            "_ _ _ _ _ _ _ _ _ \n",
            "\n",
            "Kalan can: 5\n",
            "Bir harf girin: e\n",
            "\n",
            "\n",
            "\n",
            "_ _ _ _ _ _ _ e _ \n",
            "\n",
            "Kalan can: 5\n",
            "Bir harf girin: a\n",
            "\n",
            "\n",
            "\n",
            "_ a _ _ _ _ _ e _ \n",
            "\n",
            "Kalan can: 5\n"
          ]
        }
      ],
      "source": [
        "import random\n",
        "\n",
        "kelimeler = [\"küpe.\", \"sevgi\", \"çilek\", \"kiraz\", \"portakal\", \"hamburger\"]\n",
        "kelime = random.choice(kelimeler)\n",
        "tahminler = []\n",
        "can = 6\n",
        "\n",
        "while True:\n",
        "    print(\"\\n\\n\")\n",
        "    girilen_harfler = \"\"\n",
        "    for harf in kelime:\n",
        "        if harf in tahminler:\n",
        "            print(harf, end=\" \")\n",
        "        else:\n",
        "            print(\"_\", end=\" \")\n",
        "\n",
        "    if set(kelime) == set(tahminler):\n",
        "        print(\"\\nTebrikler! Kelimeyi buldunuz!\")\n",
        "        break\n",
        "\n",
        "    if can == 0:\n",
        "        print(\"\\nCan hakkınız kalmadı. Kaybettiniz!\")\n",
        "        print(\"Doğru kelime: \" + kelime)\n",
        "        break\n",
        "\n",
        "    print(\"\\n\\nKalan can: \" + str(can))\n",
        "    tahmin = input(\"Bir harf girin: \").lower()\n",
        "\n",
        "    if len(tahmin) != 1 or not tahmin.isalpha():\n",
        "        print(\"Lütfen geçerli bir harf girin!\")\n",
        "        continue\n",
        "\n",
        "    if tahmin in tahminler:\n",
        "        print(\"Bu harfi zaten girmiştiniz!\")\n",
        "        continue\n",
        "\n",
        "    tahminler.append(tahmin)\n",
        "\n",
        "    if tahmin not in kelime:\n",
        "        can -= 1\n",
        "        print(\"Yanlış tahmin!\")\n",
        "    else:\n",
        "        girilen_harfler += tahmin"
      ]
    }
  ]
}