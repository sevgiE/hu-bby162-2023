{
  "nbformat": 4,
  "nbformat_minor": 0,
  "metadata": {
    "colab": {
      "provenance": [],
      "authorship_tag": "ABX9TyN7VvrS0fWUZSCIHSCVSBHX",
      "include_colab_link": true
    },
    "kernelspec": {
      "name": "python3",
      "display_name": "Python 3"
    },
    "language_info": {
      "name": "python"
    }
  },
  "cells": [
    {
      "cell_type": "markdown",
      "metadata": {
        "id": "view-in-github",
        "colab_type": "text"
      },
      "source": [
        "<a href=\"https://colab.research.google.com/github/sevgiE/hu-bby162-2023/blob/main/proje01.ipynb\" target=\"_parent\"><img src=\"https://colab.research.google.com/assets/colab-badge.svg\" alt=\"Open In Colab\"/></a>"
      ]
    },
    {
      "cell_type": "code",
      "execution_count": null,
      "metadata": {
        "id": "tBh7gYG36bKq"
      },
      "outputs": [],
      "source": [
        "liste = [\"aslan\", \"marul\", \"buzul\", \"sucuk\", \"demir\", \"tahta\"]\n",
        "secim = input(\"İndeks numarasınız giriniz: \")\n",
        "if secim. isdigit():\n",
        "  secim=int(secim)\n",
        "  listeToplam=len(liste)\n",
        "  if secim < listeToplam:\n",
        "    print(liste[secim])\n",
        "else:\n",
        "  print(\"İndeks dışı giriş!!!\")"
      ]
    }
  ]
}