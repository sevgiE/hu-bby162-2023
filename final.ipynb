def eserKaydet(eserAdi, yazarAdi, basimTarihi):
    with open("veritabani.txt", "a") as dosya:
        dosya.write(f"{eserAdi}-{yazarAdi}-{basimTarihi}\n")
    print("Kayıt başarıyla eklendi.")

def kayitlariListele():
    with open("veritabani.txt", "r") as dosya:
        for line in dosya.readlines():
            print(line.strip())

def eserAra(arananKitap):
    with open("veritabani.txt", "r") as dosya:
        for line in dosya.readlines():
            if arananKitap.lower() in line.lower():
                print(line.strip())

def menu():
    print("Kütüphane Kataloğuna Hoşgeldiniz...\n")
    while True:
        print("Yapmak istediğiniz işlem nedir?")
        print("1) Kayıtları Listele")
        print("2) Yeni Kayıt Ekle")
        print("3) Kayıt Ara")
        print("4) Çıkış")
        secim = input("Seçiminizi yapınız: ")

        if secim == "1":
            kayitlariListele()
        elif secim == "2":
            eserAdi = input("Eser Adını giriniz: ")
            yazarAdi = input("Yazar Adını giriniz: ")
            basimTarihi = input("Basım Tarihini giriniz: ")
            eserKaydet(eserAdi, yazarAdi, basimTarihi)
        elif secim == "3":
            arananKitap = input("Aramak istediğiniz kitabın adını girin: ")
            eserAra(arananKitap)
        elif secim == "4":
            print("Katalogdan çıkılıyor...")
            break
        else:
            print("Geçersiz seçim. Lütfen tekrar deneyin.")

menu()
