{
  "nbformat": 4,
  "nbformat_minor": 0,
  "metadata": {
    "colab": {
      "provenance": [],
      "authorship_tag": "ABX9TyOK93kf9hfR5pnFj3kUEvHr",
      "include_colab_link": true
    },
    "kernelspec": {
      "name": "python3",
      "display_name": "Python 3"
    },
    "language_info": {
      "name": "python"
    }
  },
  "cells": [
    {
      "cell_type": "markdown",
      "metadata": {
        "id": "view-in-github",
        "colab_type": "text"
      },
      "source": [
        "<a href=\"https://colab.research.google.com/github/sevgiE/hu-bby162-2023/blob/main/final.ipynb\" target=\"_parent\"><img src=\"https://colab.research.google.com/assets/colab-badge.svg\" alt=\"Open In Colab\"/></a>"
      ]
    },
    {
      "cell_type": "code",
      "execution_count": null,
      "metadata": {
        "colab": {
          "base_uri": "https://localhost:8080/"
        },
        "id": "3Wrt1oo0aKZD",
        "outputId": "c82d63da-a5b7-4f5b-ceae-9d0fe266de9a"
      },
      "outputs": [
        {
          "output_type": "stream",
          "name": "stdout",
          "text": [
            "Kayıt başarıyla eklendi.\n",
            "Kayıt başarıyla eklendi.\n",
            "Kayıt başarıyla eklendi.\n",
            "Kayıt başarıyla eklendi.\n",
            "Kayıt başarıyla eklendi.\n",
            "Kütüphane Kataloğuna Hoşgeldiniz...\n",
            "\n",
            "Yapmak istediğiniz işlem nedir?\n",
            "1) Kayıtları Listele\n",
            "2) Yeni Kayıt Ekle\n",
            "3) Kayıt Ara\n",
            "4) Çıkış\n"
          ]
        }
      ],
      "source": [
        "def eserKaydet(eserAdi, yazarAdi, basimTarihi):\n",
        "    with open(\"veri.txt\", \"a\") as dosya:\n",
        "        dosya.write(f\"{eserAdi}-{yazarAdi}-{basimTarihi}\\n\")\n",
        "    print(\"Kayıt başarıyla eklendi.\")\n",
        "\n",
        "def kayitlariListele():\n",
        "    with open(\"veri.txt\", \"r\") as dosya:\n",
        "        for line in dosya.readlines():\n",
        "            print(line.strip())\n",
        "\n",
        "def eserAra(arananKitap):\n",
        "    with open(\"veri.txt\", \"r\") as dosya:\n",
        "        for line in dosya.readlines():\n",
        "            if arananKitap.lower() in line.lower():\n",
        "                print(line.strip())\n",
        "\n",
        "def menu():\n",
        "    print(\"Kütüphane Kataloğuna Hoşgeldiniz...\\n\")\n",
        "    while True:\n",
        "        print(\"Yapmak istediğiniz işlem nedir?\")\n",
        "        print(\"1) Kayıtları Listele\")\n",
        "        print(\"2) Yeni Kayıt Ekle\")\n",
        "        print(\"3) Kayıt Ara\")\n",
        "        print(\"4) Çıkış\")\n",
        "        secim = input(\"Seçiminizi yapınız: \")\n",
        "\n",
        "        if secim == \"1\":\n",
        "            kayitlariListele()\n",
        "        elif secim == \"2\":\n",
        "            eserAdi = input(\"Eser Adını giriniz: \")\n",
        "            yazarAdi = input(\"Yazar Adını giriniz: \")\n",
        "            basimTarihi = input(\"Basım Tarihini giriniz: \")\n",
        "            eserKaydet(eserAdi, yazarAdi, basimTarihi)\n",
        "        elif secim == \"3\":\n",
        "            arananKitap = input(\"Aramak istediğiniz kitabın adını girin: \")\n",
        "            eserAra(arananKitap)\n",
        "        elif secim == \"4\":\n",
        "            print(\"Katalogdan çıkılıyor...\")\n",
        "            break\n",
        "        else:\n",
        "            print(\"Geçersiz seçim. Lütfen tekrar deneyin.\")\n",
        "\n",
        "eserKaydet(\"Araba Sevdası\", \"Recaizade Mahmud Ekrem \", \"1898\")\n",
        "eserKaydet(\"Acımak\", \"Reşat Nuri Güntekin\", \"1928\")\n",
        "eserKaydet(\"Simyacı\", \"Paulo Coelho\", \"1988\")\n",
        "eserKaydet(\"Sefiller\", \"Victor Hugo\", \" 1862\")\n",
        "eserKaydet(\"Ateşten Gömlek \", \"Halide Edip Adıvar\", \"1922\")\n",
        "\n",
        "menu() "
      ]
    }
  ]
}